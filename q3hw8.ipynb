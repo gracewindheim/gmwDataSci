{
  "nbformat": 4,
  "nbformat_minor": 0,
  "metadata": {
    "colab": {
      "name": "q3hw8.ipynb",
      "provenance": [],
      "authorship_tag": "ABX9TyMJtM29CPtpHF6pZuY6BVFP",
      "include_colab_link": true
    },
    "kernelspec": {
      "name": "python3",
      "display_name": "Python 3"
    }
  },
  "cells": [
    {
      "cell_type": "markdown",
      "metadata": {
        "id": "view-in-github",
        "colab_type": "text"
      },
      "source": [
        "<a href=\"https://colab.research.google.com/github/gracewindheim/gmwDataSci/blob/master/q3hw8.ipynb\" target=\"_parent\"><img src=\"https://colab.research.google.com/assets/colab-badge.svg\" alt=\"Open In Colab\"/></a>"
      ]
    },
    {
      "cell_type": "markdown",
      "metadata": {
        "id": "YpuZwb1bWzqd",
        "colab_type": "text"
      },
      "source": [
        "# Question 3"
      ]
    },
    {
      "cell_type": "markdown",
      "metadata": {
        "id": "uTU3X1rqWyCy",
        "colab_type": "text"
      },
      "source": [
        "Fit a multilayer neural network to the oasis data to predict Gold_Lesions. Use 10-fold cross-validation to compare the performance where you hold out 10% of the observation and fit on the remainder, then repeat this process 10 times. Compare the cross validated error to logistic regression. Note, you won't be able to fit a very complex NN model on this data because the size is small."
      ]
    },
    {
      "cell_type": "code",
      "metadata": {
        "id": "Mm04hqUy2xgw",
        "colab_type": "code",
        "colab": {
          "base_uri": "https://localhost:8080/",
          "height": 221
        },
        "outputId": "1cea2cbb-5862-4e7d-ec4a-13e47e41abb4"
      },
      "source": [
        "# Load libraries\n",
        "import numpy as np\n",
        "import pandas as pd\n",
        "from keras import models\n",
        "from keras import layers\n",
        "from keras.wrappers.scikit_learn import KerasClassifier\n",
        "from sklearn.model_selection import cross_val_score\n",
        "from sklearn.datasets import make_classification\n",
        "import tensorflow as tf\n",
        "\n",
        "# Set random seed\n",
        "np.random.seed(0)\n",
        "\n",
        "! if [ ! -e oasis.csv ];\\\n",
        "  then wget https://raw.githubusercontent.com/bcaffo/ds4bme_intro/master/data/oasis.csv; \\\n",
        "fi;"
      ],
      "execution_count": 1,
      "outputs": [
        {
          "output_type": "stream",
          "text": [
            "Using TensorFlow backend.\n"
          ],
          "name": "stderr"
        },
        {
          "output_type": "stream",
          "text": [
            "--2020-04-29 19:16:13--  https://raw.githubusercontent.com/bcaffo/ds4bme_intro/master/data/oasis.csv\n",
            "Resolving raw.githubusercontent.com (raw.githubusercontent.com)... 151.101.0.133, 151.101.64.133, 151.101.128.133, ...\n",
            "Connecting to raw.githubusercontent.com (raw.githubusercontent.com)|151.101.0.133|:443... connected.\n",
            "HTTP request sent, awaiting response... 200 OK\n",
            "Length: 22274 (22K) [text/plain]\n",
            "Saving to: ‘oasis.csv’\n",
            "\n",
            "\roasis.csv             0%[                    ]       0  --.-KB/s               \roasis.csv           100%[===================>]  21.75K  --.-KB/s    in 0.01s   \n",
            "\n",
            "2020-04-29 19:16:13 (1.76 MB/s) - ‘oasis.csv’ saved [22274/22274]\n",
            "\n"
          ],
          "name": "stdout"
        }
      ]
    },
    {
      "cell_type": "code",
      "metadata": {
        "id": "3uSReoc421kG",
        "colab_type": "code",
        "outputId": "ec9bb6ed-1ef6-497c-c01c-627d447b8dd1",
        "colab": {
          "base_uri": "https://localhost:8080/",
          "height": 34
        }
      },
      "source": [
        "# Number of features\n",
        "number_of_features = 12\n",
        "\n",
        "## Read in the data and display a few rows\n",
        "dataset = pd.read_csv(\"oasis.csv\")\n",
        "\n",
        "# Generate features matrix and target vector\n",
        "features = dataset.loc[:, dataset.columns != 'GOLD_Lesions']\n",
        "target = dataset['GOLD_Lesions']\n",
        "\n",
        "features.shape"
      ],
      "execution_count": 2,
      "outputs": [
        {
          "output_type": "execute_result",
          "data": {
            "text/plain": [
              "(100, 12)"
            ]
          },
          "metadata": {
            "tags": []
          },
          "execution_count": 2
        }
      ]
    },
    {
      "cell_type": "markdown",
      "metadata": {
        "id": "EUdMgrvZItPc",
        "colab_type": "text"
      },
      "source": [
        "## Multilayer neural network"
      ]
    },
    {
      "cell_type": "code",
      "metadata": {
        "id": "fRmf05Be3gE9",
        "colab_type": "code",
        "colab": {}
      },
      "source": [
        "# Create function returning a compiled network\n",
        "def create_network():\n",
        "    \n",
        "    # Start neural network\n",
        "    network = models.Sequential()\n",
        "\n",
        "    # Add fully connected layer with a ReLU activation function\n",
        "    network.add(layers.Dense(units=64, activation='relu', input_shape=(number_of_features,)))\n",
        "\n",
        "    # Add fully connected layer with a ReLU activation function\n",
        "    network.add(layers.Dense(units=64, activation='relu'))\n",
        "\n",
        "    # Add fully connected layer with a sigmoid activation function\n",
        "    network.add(layers.Dense(units=1, activation='sigmoid'))\n",
        "\n",
        "    # Compile neural network\n",
        "    network.compile(loss='binary_crossentropy', # Cross-entropy\n",
        "                    optimizer='rmsprop', # Root Mean Square Propagation\n",
        "                    metrics=['accuracy']) # Accuracy performance metric\n",
        "    \n",
        "    # Return compiled network\n",
        "    return network"
      ],
      "execution_count": 0,
      "outputs": []
    },
    {
      "cell_type": "code",
      "metadata": {
        "id": "-eBQ_Tlg35lv",
        "colab_type": "code",
        "colab": {}
      },
      "source": [
        "# Wrap Keras model so it can be used by scikit-learn\n",
        "neural_network = KerasClassifier(build_fn=create_network, \n",
        "                                 epochs=10, \n",
        "                                 batch_size=100, \n",
        "                                 verbose=0)"
      ],
      "execution_count": 0,
      "outputs": []
    },
    {
      "cell_type": "code",
      "metadata": {
        "id": "npa6I5-B36J8",
        "colab_type": "code",
        "outputId": "cb2d6ed8-fc93-4988-f06a-bf28e80306b2",
        "colab": {
          "base_uri": "https://localhost:8080/",
          "height": 34
        }
      },
      "source": [
        "# Evaluate neural network using 10-fold cross-validation\n",
        "scores = cross_val_score(neural_network, features, target, cv=10)\n",
        "print(\"Accuracy: %0.2f (+/- %0.2f)\" % (scores.mean(), scores.std() * 2))\n"
      ],
      "execution_count": 7,
      "outputs": [
        {
          "output_type": "stream",
          "text": [
            "Accuracy: 0.71 (+/- 0.44)\n"
          ],
          "name": "stdout"
        }
      ]
    },
    {
      "cell_type": "markdown",
      "metadata": {
        "id": "bNTT07uEA85l",
        "colab_type": "text"
      },
      "source": [
        "## Logistic regression"
      ]
    },
    {
      "cell_type": "code",
      "metadata": {
        "id": "bCLnYk_3A-lu",
        "colab_type": "code",
        "colab": {}
      },
      "source": [
        "# Create function returning a compiled logistic regression network (only inputs and outputs, no hidden layers)\n",
        "def create_network():\n",
        "    \n",
        "    # Start neural network\n",
        "    network = models.Sequential()\n",
        "    network.add(layers.Dense(units=64, activation='relu', input_shape=(number_of_features,)))\n",
        "    network.add(layers.Dense(units=1, activation='sigmoid'))\n",
        "\n",
        "    # Compile neural network\n",
        "    network.compile(loss='binary_crossentropy', # Cross-entropy\n",
        "                    optimizer='rmsprop', # Root Mean Square Propagation\n",
        "                    metrics=['accuracy']) # Accuracy performance metric\n",
        "    \n",
        "    # Return compiled network\n",
        "    return network"
      ],
      "execution_count": 0,
      "outputs": []
    },
    {
      "cell_type": "code",
      "metadata": {
        "id": "ousPKy4hBWQk",
        "colab_type": "code",
        "colab": {}
      },
      "source": [
        "# Wrap Keras model so it can be used by scikit-learn\n",
        "neural_network2 = KerasClassifier(build_fn=create_network, \n",
        "                                 epochs=10, \n",
        "                                 batch_size=100, \n",
        "                                 verbose=0)"
      ],
      "execution_count": 0,
      "outputs": []
    },
    {
      "cell_type": "code",
      "metadata": {
        "id": "xU4nlyWHETtP",
        "colab_type": "code",
        "outputId": "44a3ba4c-c5d5-4341-c66a-b1b609afdbdf",
        "colab": {
          "base_uri": "https://localhost:8080/",
          "height": 34
        }
      },
      "source": [
        "# Evaluate neural network using 10-fold cross-validation\n",
        "scores2 = cross_val_score(neural_network2, features, target, cv=10)\n",
        "print(\"Accuracy: %0.2f (+/- %0.2f)\" % (scores2.mean(), scores2.std() * 2))"
      ],
      "execution_count": 0,
      "outputs": [
        {
          "output_type": "stream",
          "text": [
            "Accuracy: 0.60 (+/- 0.32)\n"
          ],
          "name": "stdout"
        }
      ]
    },
    {
      "cell_type": "markdown",
      "metadata": {
        "id": "0ZS256qQYCf-",
        "colab_type": "text"
      },
      "source": [
        "## Comparison\n",
        "\n",
        "Multilayer neural network yielded 71% accuracy while logistic regression yielded 60% accuracy."
      ]
    }
  ]
}